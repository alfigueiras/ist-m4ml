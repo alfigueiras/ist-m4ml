{
 "cells": [
  {
   "cell_type": "code",
   "execution_count": 1,
   "metadata": {
    "collapsed": true
   },
   "outputs": [],
   "source": [
    "%load_ext autoreload\n",
    "%autoreload 2\n",
    "\n",
    "import os\n",
    "\n",
    "import torchvision.datasets\n",
    "import torch\n",
    "import torchvision\n",
    "from torchvision import transforms\n",
    "from torch.utils.data import Subset,DataLoader\n",
    "from torchmetrics.image.fid import FrechetInceptionDistance\n",
    "from torchmetrics.image.inception import InceptionScore\n",
    "\n",
    "import numpy as np\n",
    "\n",
    "import helpers"
   ]
  },
  {
   "cell_type": "markdown",
   "source": [
    "## Data Loading"
   ],
   "metadata": {
    "collapsed": false
   }
  },
  {
   "cell_type": "code",
   "execution_count": 2,
   "outputs": [
    {
     "name": "stdout",
     "output_type": "stream",
     "text": [
      "Files already downloaded and verified\n"
     ]
    }
   ],
   "source": [
    "IMG_SIZE = 32\n",
    "BATCH_SIZE = 64\n",
    "\n",
    "def load_transformed_dataset():\n",
    "    data_transforms = [\n",
    "        transforms.Resize((IMG_SIZE, IMG_SIZE)),\n",
    "        transforms.RandomHorizontalFlip(),\n",
    "        transforms.ToTensor(), # Scales data into [0,1]\n",
    "        transforms.Lambda(lambda t: (t * 2) - 1) # Scale between [-1, 1]\n",
    "    ]\n",
    "    data_transform = transforms.Compose(data_transforms)\n",
    "\n",
    "    cifar = torchvision.datasets.CIFAR10(root=\".\", download=True,\n",
    "                                         transform=data_transform)\n",
    "    return cifar\n",
    "\n",
    "data = load_transformed_dataset()\n",
    "dataloader = DataLoader(data, batch_size=BATCH_SIZE, shuffle=True, drop_last=True)\n",
    "\n",
    "#Dataloader for only 1 class: automobiles\n",
    "cars = Subset(data, [i for i, (x, y) in enumerate(data) if y == 1])\n",
    "dataloader_cars = DataLoader(cars, batch_size=BATCH_SIZE, shuffle=True, drop_last=True)\n",
    "\n",
    "cifar5 = Subset(data, [i for i, (x, y) in enumerate(data) if y in [0,1,3,7,8]])\n",
    "dataloader_cifar5 = DataLoader(cifar5, batch_size=BATCH_SIZE, shuffle=True, drop_last=True)\n",
    "\n",
    "car_images = helpers.get_images(dataloader_cars, 500)\n",
    "cifar5_images = helpers.get_images(dataloader_cifar5, 500)"
   ],
   "metadata": {
    "collapsed": false
   }
  },
  {
   "cell_type": "markdown",
   "source": [
    "# Scoring"
   ],
   "metadata": {
    "collapsed": false
   }
  },
  {
   "cell_type": "code",
   "execution_count": 3,
   "outputs": [],
   "source": [
    "n_images = 100\n",
    "epochs = [50, 100, 150, 200, 250, 300, 350, 400, 450, 500]"
   ],
   "metadata": {
    "collapsed": false
   }
  },
  {
   "cell_type": "code",
   "execution_count": 13,
   "outputs": [
    {
     "name": "stdout",
     "output_type": "stream",
     "text": [
      "10/10Simple FID\n"
     ]
    },
    {
     "name": "stderr",
     "output_type": "stream",
     "text": [
      "C:\\Users\\Lenovo\\OneDrive\\Ambiente de Trabalho\\Técnico\\Msc\\1º Ano\\2º Semestre\\MAAut\\Project2\\ist-m4ml\\venv\\Lib\\site-packages\\torchmetrics\\utilities\\prints.py:43: UserWarning: Metric `InceptionScore` will save all extracted features in buffer. For large datasets this may lead to large memory footprint.\n",
      "  warnings.warn(*args, **kwargs)  # noqa: B028\n"
     ]
    },
    {
     "name": "stdout",
     "output_type": "stream",
     "text": [
      "10/10Simple Inception\n"
     ]
    }
   ],
   "source": [
    "model1_fid = helpers.get_fid_values(1, epochs, car_images)\n",
    "np.save(os.path.join(\"scoring_results\", \"model1_fid.npy\"), model1_fid)\n",
    "model2_fid = helpers.get_fid_values(2, epochs, cifar5_images)\n",
    "np.save(os.path.join(\"scoring_results\", \"model2_fid.npy\"), model2_fid)\n",
    "print('Simple FID')\n",
    "model1_inception = helpers.get_inception_values(1, epochs)\n",
    "np.save(os.path.join(\"scoring_results\", \"model1_inception.npy\"), model1_inception)\n",
    "model2_inception = helpers.get_inception_values(2, epochs)\n",
    "np.save(os.path.join(\"scoring_results\", \"model2_inception.npy\"), model2_inception)\n",
    "print('Simple Inception')"
   ],
   "metadata": {
    "collapsed": false
   }
  },
  {
   "cell_type": "code",
   "execution_count": 14,
   "outputs": [
    {
     "name": "stdout",
     "output_type": "stream",
     "text": [
      "10/10Improved FID\n",
      "10/10Improved Inception\n"
     ]
    }
   ],
   "source": [
    "model1_imp_fid = helpers.get_imp_fid_values(1, epochs, car_images)\n",
    "np.save(os.path.join(\"scoring_results\", \"model1_imp_fid.npy\"), model1_imp_fid)\n",
    "model2_imp_fid = helpers.get_imp_fid_values(2, epochs, cifar5_images)\n",
    "np.save(os.path.join(\"scoring_results\", \"model2_imp_fid.npy\"), model2_imp_fid)\n",
    "print('Improved FID')\n",
    "model1_imp_inception = helpers.get_imp_inception_values(1, epochs)\n",
    "np.save(os.path.join(\"scoring_results\", \"model1_imp_inception.npy\"), model1_imp_inception)\n",
    "model2_imp_inception = helpers.get_imp_inception_values(2, epochs)\n",
    "np.save(os.path.join(\"scoring_results\", \"model2_imp_inception.npy\"), model2_imp_inception)\n",
    "print('Improved Inception')"
   ],
   "metadata": {
    "collapsed": false
   }
  },
  {
   "cell_type": "code",
   "execution_count": 15,
   "outputs": [
    {
     "name": "stdout",
     "output_type": "stream",
     "text": [
      "9/9GL FID\n",
      "9/9GL Inception\n"
     ]
    }
   ],
   "source": [
    "model1_gl_imp_fid = helpers.get_gl_imp_fid_values(1, car_images)\n",
    "np.save(os.path.join(\"scoring_results\", \"model1_gl_imp_fid.npy\"), model1_gl_imp_fid)\n",
    "model2_gl_imp_fid = helpers.get_gl_imp_fid_values(2, cifar5_images)\n",
    "np.save(os.path.join(\"scoring_results\", \"model2_gl_imp_fid.npy\"), model2_gl_imp_fid)\n",
    "print('GL FID')\n",
    "model1_gl_imp_inception = helpers.get_gl_imp_inception_values(1)\n",
    "np.save(os.path.join(\"scoring_results\", \"model1_gl_imp_inception.npy\"), model1_gl_imp_inception)\n",
    "model2_gl_imp_inception = helpers.get_gl_imp_inception_values(2)\n",
    "np.save(os.path.join(\"scoring_results\", \"model2_gl_imp_inception.npy\"), model2_gl_imp_inception)\n",
    "print('GL Inception')"
   ],
   "metadata": {
    "collapsed": false
   }
  }
 ],
 "metadata": {
  "kernelspec": {
   "display_name": "Python 3",
   "language": "python",
   "name": "python3"
  },
  "language_info": {
   "codemirror_mode": {
    "name": "ipython",
    "version": 2
   },
   "file_extension": ".py",
   "mimetype": "text/x-python",
   "name": "python",
   "nbconvert_exporter": "python",
   "pygments_lexer": "ipython2",
   "version": "2.7.6"
  }
 },
 "nbformat": 4,
 "nbformat_minor": 0
}
